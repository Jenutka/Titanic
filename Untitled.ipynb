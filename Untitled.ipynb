{
 "cells": [
  {
   "cell_type": "code",
   "execution_count": 1,
   "id": "6bac5d95",
   "metadata": {},
   "outputs": [],
   "source": [
    "countfeature = [\"Survived\", \"Pclass\", \"Sex\", \"SibSp\", \"Parch\", \"Embarked\"]\n",
    "countlist = list(enumerate(countfeature))"
   ]
  },
  {
   "cell_type": "code",
   "execution_count": 2,
   "id": "5de3025a",
   "metadata": {},
   "outputs": [
    {
     "name": "stdout",
     "output_type": "stream",
     "text": [
      "[(0, 'Survived'), (1, 'Pclass'), (2, 'Sex'), (3, 'SibSp'), (4, 'Parch'), (5, 'Embarked')]\n"
     ]
    }
   ],
   "source": [
    "print(countlist)"
   ]
  }
 ],
 "metadata": {
  "kernelspec": {
   "display_name": "Python 3 (ipykernel)",
   "language": "python",
   "name": "python3"
  },
  "language_info": {
   "codemirror_mode": {
    "name": "ipython",
    "version": 3
   },
   "file_extension": ".py",
   "mimetype": "text/x-python",
   "name": "python",
   "nbconvert_exporter": "python",
   "pygments_lexer": "ipython3",
   "version": "3.9.7"
  }
 },
 "nbformat": 4,
 "nbformat_minor": 5
}
